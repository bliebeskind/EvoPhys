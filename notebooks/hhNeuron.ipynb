{
 "cells": [
  {
   "cell_type": "code",
   "execution_count": 6,
   "metadata": {
    "collapsed": true
   },
   "outputs": [],
   "source": [
    "import numpy as np\n",
    "import matplotlib.pyplot as plt\n",
    "%matplotlib inline"
   ]
  },
  {
   "cell_type": "code",
   "execution_count": 26,
   "metadata": {
    "collapsed": true
   },
   "outputs": [],
   "source": [
    "#! /usr/bin/env python\n",
    "\n",
    "import numpy as np\n",
    "import matplotlib.pyplot as plt\n",
    "\n",
    "class hhNeuron:\n",
    "    '''Modified from http://neurdon.wpengine.com/2011/01/26/neural-modeling-with-python-part-2/'''\n",
    "\n",
    "    def __init__(self):\n",
    "\n",
    "        ## Functions\n",
    "        # K channel\n",
    "        self.alpha_n = np.vectorize(lambda v: 0.01*(-v + 10)/(np.exp((-v + 10)/10) - 1) if v != 10 else 0.1)\n",
    "        self.beta_n  = lambda v: 0.125*np.exp(-v/80)\n",
    "        self.n_inf   = lambda v: self.alpha_n(v)/(self.alpha_n(v) + self.beta_n(v))\n",
    "        \n",
    "        # Na channel (activating)\n",
    "        self.alpha_m = np.vectorize(lambda v: 0.1*(-v + 25)/(np.exp((-v + 25)/10) - 1) if v != 25 else 1)\n",
    "        self.beta_m  = lambda v: 4*np.exp(-v/18)\n",
    "        self.m_inf   = lambda v: self.alpha_m(v)/(self.alpha_m(v) + self.beta_m(v))\n",
    "        \n",
    "        # Na channel (inactivating)\n",
    "        self.alpha_h = lambda v: 0.07*np.exp(-v/20)\n",
    "        self.beta_h  = lambda v: 1/(np.exp((-v + 30)/10) + 1)\n",
    "        self.h_inf   = lambda v: self.alpha_h(v)/(self.alpha_h(v) + self.beta_h(v))\n",
    "        \n",
    "        ## setup parameters and state variables\n",
    "        self.T     = 55    # ms\n",
    "        self.dt    = 0.025 # ms\n",
    "        self.time  = np.arange(0,self.T + self.dt, self.dt)\n",
    "        \n",
    "        ## HH Parameters\n",
    "        self.V_rest  = 0      # mV\n",
    "        self.Cm      = 1      # uF/cm2\n",
    "        self.gbar_Na = 120    # mS/cm2\n",
    "        self.gbar_K  = 36     # mS/cm2\n",
    "        self.gbar_l  = 0.3    # mS/cm2\n",
    "        self.E_Na    = 115    # mV\n",
    "        self.E_K     = -12    # mV\n",
    "        self.E_l     = 10.613 # mV\n",
    "        \n",
    "        self.Vm      = np.zeros(len(self.time)) # mV\n",
    "        self.Vm[0]   = self.V_rest\n",
    "        self.m       = self.m_inf(self.V_rest)      \n",
    "        self.h       = self.h_inf(self.V_rest)\n",
    "        self.n       = self.n_inf(self.V_rest)\n",
    "    \n",
    "    # Stimulus protocol - here a square wave of 10us/cm2 from 5 to 10 ms\n",
    "    def stim(self,time,on=5,off=30):\n",
    "        ## Stimulus\n",
    "        I = np.zeros(len(time))\n",
    "        for i, t in enumerate(time):\n",
    "            if on <= t <= off: I[i] = 10 # uA/cm2\n",
    "        return I\n",
    "    \n",
    "    def sim(self):\n",
    "        '''Simulate under the stimulus protocol'''\n",
    "        time=self.time\n",
    "        I=self.stim(self.time)\n",
    "        for i in range(1,len(time)):\n",
    "            self.g_Na = self.gbar_Na*(self.m**3)*self.h\n",
    "            self.g_K  = self.gbar_K*(self.n**4)\n",
    "            self.g_l  = self.gbar_l\n",
    "            \n",
    "            self.m += (self.alpha_m(self.Vm[i-1])*(1 - self.m) - self.beta_m(self.Vm[i-1])*self.m) * self.dt\n",
    "            self.h += (self.alpha_h(self.Vm[i-1])*(1 - self.h) - self.beta_h(self.Vm[i-1])*self.h) * self.dt\n",
    "            self.n += (self.alpha_n(self.Vm[i-1])*(1 - self.n) - self.beta_n(self.Vm[i-1])*self.n) * self.dt\n",
    "            \n",
    "            self.Vm[i] = self.Vm[i-1] + (I[i-1] - self.g_Na*(self.Vm[i-1] - self.E_Na) - self.g_K*(self.Vm[i-1] - self.E_K) - self.g_l*(self.Vm[i-1] - self.E_l)) / self.Cm * self.dt"
   ]
  },
  {
   "cell_type": "code",
   "execution_count": 27,
   "metadata": {
    "collapsed": false
   },
   "outputs": [],
   "source": [
    "# Run the simulation\n",
    "\n",
    "hh = hhNeuron()\n",
    "hh.sim()"
   ]
  },
  {
   "cell_type": "code",
   "execution_count": 28,
   "metadata": {
    "collapsed": false
   },
   "outputs": [
    {
     "data": {
      "text/plain": [
       "<matplotlib.text.Text at 0x7f5de621a890>"
      ]
     },
     "execution_count": 28,
     "metadata": {},
     "output_type": "execute_result"
    },
    {
     "data": {
      "image/png": "[encoded data removed]",
      "text/plain": [
       "<matplotlib.figure.Figure at 0x7f5dec0805d0>"
      ]
     },
     "metadata": {},
     "output_type": "display_data"
    }
   ],
   "source": [
    "# Plot the output\n",
    "\n",
    "plt.plot(hh.Vm)\n",
    "plt.xlabel(\"ms\")\n",
    "plt.ylabel(\"mV\")"
   ]
  },
  {
   "cell_type": "code",
   "execution_count": null,
   "metadata": {
    "collapsed": true
   },
   "outputs": [],
   "source": [
    "plt.savefig(\"myHH_wave.png\")"
   ]
  }
 ],
 "metadata": {
  "kernelspec": {
   "display_name": "Python 2",
   "language": "python",
   "name": "python2"
  },
  "language_info": {
   "codemirror_mode": {
    "name": "ipython",
    "version": 2
   },
   "file_extension": ".py",
   "mimetype": "text/x-python",
   "name": "python",
   "nbconvert_exporter": "python",
   "pygments_lexer": "ipython2",
   "version": "2.7.6"
  }
 },
 "nbformat": 4,
 "nbformat_minor": 0
}
